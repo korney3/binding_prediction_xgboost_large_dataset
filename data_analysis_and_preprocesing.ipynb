{
 "cells": [
  {
   "cell_type": "code",
   "id": "initial_id",
   "metadata": {
    "collapsed": true,
    "ExecuteTime": {
     "end_time": "2024-05-10T23:34:49.476973Z",
     "start_time": "2024-05-10T23:34:44.766682Z"
    }
   },
   "source": [
    "import pandas as pd\n",
    "import pyarrow.parquet as pq\n",
    "import pyarrow as pa\n",
    "import matplotlib.pyplot as plt\n",
    "import numpy as np\n",
    "\n",
    "from rdkit import Chem\n",
    "from rdkit.Chem import Draw\n",
    "from tqdm import tqdm\n",
    "import math\n",
    "import xgboost\n",
    "import xgboost as xgb\n",
    "import pickle\n",
    "import duckdb"
   ],
   "outputs": [],
   "execution_count": 1
  },
  {
   "metadata": {
    "ExecuteTime": {
     "end_time": "2024-05-10T23:35:16.159004Z",
     "start_time": "2024-05-10T23:35:16.024238Z"
    }
   },
   "cell_type": "code",
   "source": [
    "from binding_prediction.const import WHOLE_MOLECULE_COLUMN, TARGET_COLUMN\n",
    "\n",
    "from binding_prediction.datasets.xgboost_iterator import SmilesIterator\n",
    "\n",
    "from binding_prediction.evaluation.kaggle_submission_creation import get_submission_test_predictions_for_xgboost_model\n"
   ],
   "id": "25603d18051c6198",
   "outputs": [],
   "execution_count": 2
  },
  {
   "metadata": {},
   "cell_type": "markdown",
   "source": "# EDA",
   "id": "e77e751c211e9695"
  },
  {
   "metadata": {},
   "cell_type": "markdown",
   "source": "## Get train dataset info",
   "id": "4a433470bdfa6ec7"
  },
  {
   "metadata": {
    "ExecuteTime": {
     "end_time": "2024-05-05T01:15:35.670294Z",
     "start_time": "2024-05-05T01:15:35.667989Z"
    }
   },
   "cell_type": "code",
   "source": [
    "train_path = 'data/train.parquet'\n",
    "test_path = 'data/test.parquet'"
   ],
   "id": "8d732965d39dfc64",
   "outputs": [],
   "execution_count": 8
  },
  {
   "metadata": {
    "ExecuteTime": {
     "start_time": "2024-05-05T01:15:35.702345Z"
    }
   },
   "cell_type": "code",
   "source": "parquet_file = pq.ParquetFile('data/train.parquet')",
   "id": "6a2fd5cbbfca8f8c",
   "outputs": [],
   "execution_count": null
  },
  {
   "metadata": {},
   "cell_type": "code",
   "source": "parquet_file.metadata",
   "id": "13da34df6df04aed",
   "outputs": [],
   "execution_count": null
  },
  {
   "metadata": {},
   "cell_type": "code",
   "source": [
    "row_group_0 = parquet_file.read_row_group(0)\n",
    "row_group_1 = parquet_file.read_row_group(1)\n",
    "\n",
    "combined_table = pa.concat_tables([row_group_0, row_group_1])\n",
    "pq.write_table(row_group_0, 'data/row_group_0.parquet')\n",
    "pq.write_table(combined_table, 'data/two_row_groups.parquet')\n"
   ],
   "id": "694ca40fd29aa7be",
   "outputs": [],
   "execution_count": null
  },
  {
   "metadata": {},
   "cell_type": "code",
   "source": [
    "for i in range(parquet_file.metadata.num_row_groups):\n",
    "    row_group_stats = parquet_file.metadata.row_group(i).column(0).statistics\n",
    "    print(f\"row group: {i}, num of rows: {row_group_stats.num_values}\")"
   ],
   "id": "c9401360654f6847",
   "outputs": [],
   "execution_count": null
  },
  {
   "metadata": {},
   "cell_type": "markdown",
   "source": "### Create subsample of train dataset to experiment with it",
   "id": "ddeb4964df399e12"
  },
  {
   "metadata": {},
   "cell_type": "code",
   "source": [
    "# https://www.kaggle.com/code/andrewdblevins/leash-tutorial-ecfps-and-random-forest\n",
    "con = duckdb.connect()\n",
    "\n",
    "df = con.query(f\"\"\"(SELECT *\n",
    "                        FROM parquet_scan('{train_path}')\n",
    "                        WHERE binds = 0\n",
    "                        ORDER BY random()\n",
    "                        LIMIT 3000000)\n",
    "                        UNION ALL\n",
    "                        (SELECT *\n",
    "                        FROM parquet_scan('{train_path}')\n",
    "                        WHERE binds = 1\n",
    "                        ORDER BY random()\n",
    "                        LIMIT 1589906)\"\"\").arrow()\n",
    "pq.write_table(df, 'data/subsampled_5M_train.parquet')\n",
    "\n",
    "con.close()"
   ],
   "id": "49da54737df577a3",
   "outputs": [],
   "execution_count": null
  },
  {
   "metadata": {},
   "cell_type": "code",
   "source": [
    "row_group_df = parquet_file.read_row_group(0).to_pandas()\n",
    "row_group_df.to_csv('data/row_group_0.csv')"
   ],
   "id": "7fe294cff745badd",
   "outputs": [],
   "execution_count": null
  },
  {
   "metadata": {},
   "cell_type": "code",
   "source": "row_group_df.info()",
   "id": "b51ddb74fbd2a716",
   "outputs": [],
   "execution_count": null
  },
  {
   "metadata": {},
   "cell_type": "markdown",
   "source": "### Get statistics of the target column",
   "id": "8b1ab6428b4537c5"
  },
  {
   "metadata": {},
   "cell_type": "code",
   "source": [
    "negative_count = 0\n",
    "positive_count = 0\n",
    "for i in range(parquet_file.metadata.num_row_groups):\n",
    "    row_group_df = parquet_file.read_row_group(i).to_pandas()\n",
    "    negative_count += row_group_df[TARGET_COLUMN].value_counts()[0]\n",
    "    positive_count += row_group_df[TARGET_COLUMN].value_counts()[1]\n",
    "    print(f\"row group: {i}, negative count: {negative_count}, positive count: {positive_count}\")"
   ],
   "id": "6f7f1352c4fa4f47",
   "outputs": [],
   "execution_count": null
  },
  {
   "metadata": {},
   "cell_type": "code",
   "source": [
    "_ = plt.bar(['log negative', 'log positive'], [np.log(negative_count), np.log(positive_count)])\n",
    "_ = plt.title('Target column distribution')"
   ],
   "id": "3b687606940fa802",
   "outputs": [],
   "execution_count": null
  },
  {
   "metadata": {},
   "cell_type": "markdown",
   "source": "### Draw couple of molecules",
   "id": "7bc7408abb66d82d"
  },
  {
   "metadata": {},
   "cell_type": "code",
   "source": "row_group_df = parquet_file.read_row_group(0).to_pandas()",
   "id": "494d07885af4e919",
   "outputs": [],
   "execution_count": null
  },
  {
   "metadata": {},
   "cell_type": "code",
   "source": "row_group_df[WHOLE_MOLECULE_COLUMN].head()",
   "id": "bdeda73ccec6bf2a",
   "outputs": [],
   "execution_count": null
  },
  {
   "metadata": {},
   "cell_type": "code",
   "source": [
    "smiles = []\n",
    "targets = []\n",
    "for i in tqdm(range(parquet_file.metadata.num_row_groups)):\n",
    "    row_group_df = parquet_file.read_row_group(i).to_pandas()\n",
    "    negative_sample = row_group_df[row_group_df[TARGET_COLUMN] == 0].sample(2)\n",
    "    positive_sample = row_group_df[row_group_df[TARGET_COLUMN] == 1].sample(2)\n",
    "    subsample = pd.concat([negative_sample, positive_sample])\n",
    "    smiles.extend(subsample[WHOLE_MOLECULE_COLUMN].values)\n",
    "    targets.extend(subsample[TARGET_COLUMN].values)"
   ],
   "id": "ac173a916bcbef1c",
   "outputs": [],
   "execution_count": null
  },
  {
   "metadata": {},
   "cell_type": "code",
   "source": [
    "num_mols_to_draw = 100\n",
    "random_indices = np.random.choice(len(smiles), num_mols_to_draw, replace=False)\n",
    "grid_size = math.ceil(np.sqrt(num_mols_to_draw))\n",
    "fig, axs = plt.subplots(grid_size, grid_size, figsize=(20, 20))\n",
    "for i in tqdm(range(num_mols_to_draw)):\n",
    "    smile = smiles[random_indices[i]]\n",
    "    target = targets[random_indices[i]]\n",
    "    mol = Chem.MolFromSmiles(smile)\n",
    "    ax = axs[i // grid_size, i % grid_size]\n",
    "    ax.imshow(Draw.MolToImage(mol))\n",
    "    ax.set_title(f'target: {target}')\n",
    "ax.axis('off')"
   ],
   "id": "f82f86b0f5e127b8",
   "outputs": [],
   "execution_count": null
  },
  {
   "metadata": {},
   "cell_type": "markdown",
   "source": "# XGBoost baseline",
   "id": "2ba77e9f8f587d1a"
  },
  {
   "metadata": {},
   "cell_type": "code",
   "source": [
    "print('Train validation split')\n",
    "train_file_path = 'data/row_group_0.parquet'\n",
    "rng = np.random.default_rng(seed=42)\n",
    "\n",
    "train_val_pq = pq.ParquetFile(train_file_path)\n",
    "train_indices = rng.choice(train_val_pq.metadata.num_rows, int(0.8 * train_val_pq.metadata.num_rows), replace=False)\n",
    "val_indices = np.setdiff1d(np.arange(train_val_pq.metadata.num_rows), train_indices)\n",
    "\n",
    "print('Creating datasets')\n",
    "train_dataset = SmilesIterator(train_file_path, indicies=train_indices, radius=3, test_set=False)\n",
    "val_dataset = SmilesIterator(train_file_path, indicies=val_indices, radius=3, test_set=False)\n",
    "test_dataset = SmilesIterator('data/test.parquet', shuffle=False, radius=3, test_set=True)"
   ],
   "id": "bc9f7144dd9a4fbc",
   "outputs": [],
   "execution_count": null
  },
  {
   "metadata": {},
   "cell_type": "code",
   "source": "train_Xy = xgboost.DMatrix(train_dataset)",
   "id": "9fa5ad8ca3a42fad",
   "outputs": [],
   "execution_count": null
  },
  {
   "metadata": {},
   "cell_type": "code",
   "source": "val_Xy = xgboost.DMatrix(val_dataset)",
   "id": "907ae582a1bb2e1d",
   "outputs": [],
   "execution_count": null
  },
  {
   "metadata": {},
   "cell_type": "code",
   "source": "test_Xy = xgboost.DMatrix(test_dataset)",
   "id": "1ce38bc690884eb4",
   "outputs": [],
   "execution_count": null
  },
  {
   "metadata": {},
   "cell_type": "code",
   "source": [
    "print('Load model')\n",
    "model_path = 'logs/2024-04-25_22-04-59/model.pkl'\n",
    "with open(model_path, 'rb') as file:\n",
    "    model = pickle.load(file)\n",
    "    "
   ],
   "id": "391c2252c6cb10d6",
   "outputs": [],
   "execution_count": null
  },
  {
   "metadata": {},
   "cell_type": "code",
   "source": [
    "print('Predicting')\n",
    "get_submission_test_predictions(test_dataset, test_Xy, model, 'logs/2024-04-25_22-04-59')"
   ],
   "id": "b8f4012537924e3",
   "outputs": [],
   "execution_count": null
  },
  {
   "metadata": {},
   "cell_type": "code",
   "source": [
    "print('Creating model')\n",
    "params = {\n",
    "    'max_depth': 10,\n",
    "    'objective': 'binary:logistic',\n",
    "    # 'nthread': 4,\n",
    "    'eval_metric': 'auc',\n",
    "    'verbosity': 2\n",
    "}\n",
    "\n",
    "\n",
    "num_rounds = 10  # equivalent to the number of estimators\n",
    "\n",
    "eval_list = [(train_Xy, 'train'), (val_Xy, 'eval')]  # evaluation set for monitoring"
   ],
   "id": "60e7a3986ab5af75",
   "outputs": [],
   "execution_count": null
  },
  {
   "metadata": {},
   "cell_type": "code",
   "source": "model = xgb.train(params, train_Xy, num_rounds, evals=eval_list, verbose_eval=100000)",
   "id": "ec1adfec70127253",
   "outputs": [],
   "execution_count": null
  },
  {
   "metadata": {},
   "cell_type": "code",
   "source": [
    "# Save the model using pickle\n",
    "with open('model.pkl', 'wb') as file:\n",
    "    pickle.dump(model, file)"
   ],
   "id": "9b8b68fae1006ab2",
   "outputs": [],
   "execution_count": null
  },
  {
   "metadata": {
    "ExecuteTime": {
     "end_time": "2024-05-10T23:35:43.773224Z",
     "start_time": "2024-05-10T23:35:43.493134Z"
    }
   },
   "cell_type": "code",
   "source": "sub = pd.read_csv(\"submission.csv\")",
   "id": "21bc519b4a1a17d7",
   "outputs": [],
   "execution_count": 3
  },
  {
   "metadata": {
    "ExecuteTime": {
     "end_time": "2024-05-10T23:36:26.569577Z",
     "start_time": "2024-05-10T23:36:26.212670Z"
    }
   },
   "cell_type": "code",
   "source": "sub[TARGET_COLUMN].hist()",
   "id": "4d4842bfb4658d44",
   "outputs": [
    {
     "data": {
      "text/plain": [
       "<Axes: >"
      ]
     },
     "execution_count": 4,
     "metadata": {},
     "output_type": "execute_result"
    },
    {
     "data": {
      "text/plain": [
       "<Figure size 640x480 with 1 Axes>"
      ],
      "image/png": "[encoded data removed]"
     },
     "metadata": {},
     "output_type": "display_data"
    }
   ],
   "execution_count": 4
  },
  {
   "metadata": {
    "ExecuteTime": {
     "end_time": "2024-05-10T23:45:54.456607Z",
     "start_time": "2024-05-10T23:45:53.978061Z"
    }
   },
   "cell_type": "code",
   "source": "sub_bad = pd.read_csv(\"logs/2024-05-09_20-13-18/submission.csv\")",
   "id": "b2bedcaefd1e4eb",
   "outputs": [],
   "execution_count": 10
  },
  {
   "metadata": {
    "ExecuteTime": {
     "end_time": "2024-05-10T23:45:59.146787Z",
     "start_time": "2024-05-10T23:45:58.755620Z"
    }
   },
   "cell_type": "code",
   "source": "sub_bad[TARGET_COLUMN].hist()",
   "id": "6b7b13558c8519c7",
   "outputs": [
    {
     "data": {
      "text/plain": [
       "<Axes: >"
      ]
     },
     "execution_count": 11,
     "metadata": {},
     "output_type": "execute_result"
    },
    {
     "data": {
      "text/plain": [
       "<Figure size 640x480 with 1 Axes>"
      ],
      "image/png": "[encoded data removed]"
     },
     "metadata": {},
     "output_type": "display_data"
    }
   ],
   "execution_count": 11
  },
  {
   "metadata": {
    "ExecuteTime": {
     "end_time": "2024-05-10T23:37:10.765755Z",
     "start_time": "2024-05-10T23:37:10.737926Z"
    }
   },
   "cell_type": "code",
   "source": "val_ind = np.load(\"logs/2024-05-09_20-13-18/val_indices.npy\")",
   "id": "b954b5ffe44e5b8b",
   "outputs": [],
   "execution_count": 5
  },
  {
   "metadata": {
    "ExecuteTime": {
     "end_time": "2024-05-10T23:49:02.672935Z",
     "start_time": "2024-05-10T23:48:00.086439Z"
    }
   },
   "cell_type": "code",
   "source": [
    "val_targets = []\n",
    "parquet_file = pq.ParquetFile('data/train.parquet')\n",
    "shard_size = parquet_file.metadata.row_group(0).num_rows\n",
    "for i in tqdm(range(parquet_file.metadata.num_row_groups)):\n",
    "    val_ind_in_row_group = list(filter(lambda x: i * shard_size < x < (i + 1) * shard_size, val_ind))\n",
    "    relative_val_ind = np.array(val_ind_in_row_group) - i * shard_size\n",
    "    if len(relative_val_ind) == 0:\n",
    "        continue\n",
    "    row_group_df = parquet_file.read_row_group(i).to_pandas()\n",
    "    val_targets.extend(row_group_df.iloc[relative_val_ind][TARGET_COLUMN].values)"
   ],
   "id": "d0ca69dfb4f0a7b2",
   "outputs": [
    {
     "name": "stderr",
     "output_type": "stream",
     "text": [
      "100%|██████████| 14/14 [01:02<00:00,  4.46s/it]\n"
     ]
    }
   ],
   "execution_count": 12
  },
  {
   "metadata": {
    "ExecuteTime": {
     "end_time": "2024-05-10T23:49:19.597238Z",
     "start_time": "2024-05-10T23:49:02.681922Z"
    }
   },
   "cell_type": "code",
   "source": "plt.hist(val_targets)",
   "id": "a9a2eaa7664b110e",
   "outputs": [
    {
     "data": {
      "text/plain": [
       "(array([2926965.,       0.,       0.,       0.,       0.,       0.,\n",
       "              0.,       0.,       0.,    8558.]),\n",
       " array([0. , 0.1, 0.2, 0.3, 0.4, 0.5, 0.6, 0.7, 0.8, 0.9, 1. ]),\n",
       " <BarContainer object of 10 artists>)"
      ]
     },
     "execution_count": 13,
     "metadata": {},
     "output_type": "execute_result"
    },
    {
     "data": {
      "text/plain": [
       "<Figure size 640x480 with 1 Axes>"
      ],
      "image/png": "[encoded data removed]"
     },
     "metadata": {},
     "output_type": "display_data"
    }
   ],
   "execution_count": 13
  },
  {
   "metadata": {
    "ExecuteTime": {
     "end_time": "2024-05-11T00:29:41.198495Z",
     "start_time": "2024-05-10T23:49:51.061304Z"
    }
   },
   "cell_type": "code",
   "source": [
    "val_dataset = SmilesIterator(\"data/train.parquet\", indicies=val_ind, pq_row_group_numbers=list(range(14)),\n",
    "                                         fingerprint='circular_fingerprint',\n",
    "                                         radius=3,\n",
    "                                         nBits=1024,\n",
    "                                         protein_map_path=\"data/processed/train.parquet/circular_fingerprint_3_1024/protein_map.json\")\n",
    "\n",
    "val_Xy = xgboost.DMatrix(val_dataset)"
   ],
   "id": "dcc995a5c570a577",
   "outputs": [
    {
     "name": "stdout",
     "output_type": "stream",
     "text": [
      "Reading row group 0\n",
      "Number of indicies in shard 210298\n",
      "Processing row group 0\n",
      "Reading time: 1.5333104133605957\n",
      "Protein encoding time: 0.09265398979187012\n",
      "Fingerprinting time: 73.85886597633362\n",
      "Combining time: 9.40910816192627\n",
      "Fingerprinting time 84.95230007171631\n",
      "Inputting data\n",
      "Inputting time 0.0031511783599853516\n",
      "Reading row group 1\n",
      "Number of indicies in shard 210101\n",
      "Processing row group 1\n",
      "Reading time: 1.686682939529419\n",
      "Protein encoding time: 0.0821220874786377\n",
      "Fingerprinting time: 81.26919388771057\n",
      "Combining time: 9.934137105941772\n",
      "Fingerprinting time 93.1099169254303\n",
      "Inputting data\n",
      "Inputting time 0.19609999656677246\n",
      "Reading row group 2\n",
      "Number of indicies in shard 208640\n",
      "Processing row group 2\n",
      "Reading time: 1.2865779399871826\n",
      "Protein encoding time: 0.07173871994018555\n",
      "Fingerprinting time: 55.13709115982056\n",
      "Combining time: 8.358207941055298\n",
      "Fingerprinting time 64.91453909873962\n",
      "Inputting data\n",
      "Inputting time 0.22532105445861816\n",
      "Reading row group 3\n",
      "Number of indicies in shard 209297\n",
      "Processing row group 3\n",
      "Reading time: 1.338541030883789\n",
      "Protein encoding time: 0.07041501998901367\n",
      "Fingerprinting time: 91.66529107093811\n",
      "Combining time: 12.264456987380981\n",
      "Fingerprinting time 105.4001727104187\n",
      "Inputting data\n",
      "Inputting time 0.2767300605773926\n",
      "Reading row group 4\n",
      "Number of indicies in shard 209490\n",
      "Processing row group 4\n",
      "Reading time: 1.6998379230499268\n",
      "Protein encoding time: 0.08546042442321777\n",
      "Fingerprinting time: 60.75523805618286\n",
      "Combining time: 7.497903823852539\n",
      "Fingerprinting time 70.16363883018494\n",
      "Inputting data\n",
      "Inputting time 0.20747900009155273\n",
      "Reading row group 5\n",
      "Number of indicies in shard 209734\n",
      "Processing row group 5\n",
      "Reading time: 1.1786739826202393\n",
      "Protein encoding time: 0.06335306167602539\n",
      "Fingerprinting time: 58.423356771469116\n",
      "Combining time: 9.062494277954102\n",
      "Fingerprinting time 68.78427195549011\n",
      "Inputting data\n",
      "Inputting time 0.24278593063354492\n",
      "Reading row group 6\n",
      "Number of indicies in shard 209188\n",
      "Processing row group 6\n",
      "Reading time: 1.2838492393493652\n",
      "Protein encoding time: 0.06929993629455566\n",
      "Fingerprinting time: 57.19442009925842\n",
      "Combining time: 8.522823810577393\n",
      "Fingerprinting time 67.1297128200531\n",
      "Inputting data\n",
      "Inputting time 0.2568061351776123\n",
      "Reading row group 7\n",
      "Number of indicies in shard 208982\n",
      "Processing row group 7\n",
      "Reading time: 1.2885448932647705\n",
      "Protein encoding time: 0.07048702239990234\n",
      "Fingerprinting time: 56.561944007873535\n",
      "Combining time: 8.601792097091675\n",
      "Fingerprinting time 66.57965636253357\n",
      "Inputting data\n",
      "Inputting time 0.2199079990386963\n",
      "Reading row group 8\n",
      "Number of indicies in shard 209747\n",
      "Processing row group 8\n",
      "Reading time: 1.3471291065216064\n",
      "Protein encoding time: 0.07168197631835938\n",
      "Fingerprinting time: 60.77211308479309\n",
      "Combining time: 8.667123317718506\n",
      "Fingerprinting time 70.91483902931213\n",
      "Inputting data\n",
      "Inputting time 0.23146700859069824\n",
      "Reading row group 9\n",
      "Number of indicies in shard 210198\n",
      "Processing row group 9\n",
      "Reading time: 1.2789630889892578\n",
      "Protein encoding time: 0.07444500923156738\n",
      "Fingerprinting time: 58.66926908493042\n",
      "Combining time: 8.560749769210815\n",
      "Fingerprinting time 68.64073610305786\n",
      "Inputting data\n",
      "Inputting time 0.22539806365966797\n",
      "Reading row group 10\n",
      "Number of indicies in shard 210056\n",
      "Processing row group 10\n",
      "Reading time: 1.3309059143066406\n",
      "Protein encoding time: 0.07374000549316406\n",
      "Fingerprinting time: 61.56492209434509\n",
      "Combining time: 8.332835912704468\n",
      "Fingerprinting time 71.35713624954224\n",
      "Inputting data\n",
      "Inputting time 0.21895217895507812\n",
      "Reading row group 11\n",
      "Number of indicies in shard 209815\n",
      "Processing row group 11\n",
      "Reading time: 1.3545420169830322\n",
      "Protein encoding time: 0.0721290111541748\n",
      "Fingerprinting time: 65.41330194473267\n",
      "Combining time: 9.322607040405273\n",
      "Fingerprinting time 76.22293019294739\n",
      "Inputting data\n",
      "Inputting time 0.26212501525878906\n",
      "Reading row group 12\n",
      "Number of indicies in shard 209360\n",
      "Processing row group 12\n",
      "Reading time: 1.377871036529541\n",
      "Protein encoding time: 0.08119511604309082\n",
      "Fingerprinting time: 69.10992312431335\n",
      "Combining time: 9.516203880310059\n",
      "Fingerprinting time 80.14443922042847\n",
      "Inputting data\n",
      "Inputting time 0.2503361701965332\n",
      "Reading row group 13\n",
      "Number of indicies in shard 210623\n",
      "Processing row group 13\n",
      "Reading time: 1.3180558681488037\n",
      "Protein encoding time: 0.06982684135437012\n",
      "Fingerprinting time: 70.95503425598145\n",
      "Combining time: 10.198081016540527\n",
      "Fingerprinting time 82.60468101501465\n",
      "Inputting data\n",
      "Inputting time 0.2485978603363037\n",
      "Reading row group 14\n",
      "Number of indicies in shard 209318\n",
      "Processing row group 14\n",
      "Reading time: 1.451796054840088\n",
      "Protein encoding time: 0.08040785789489746\n",
      "Fingerprinting time: 68.32956504821777\n",
      "Combining time: 7.6487250328063965\n",
      "Fingerprinting time 77.56662678718567\n",
      "Inputting data\n",
      "Inputting time 0.22531604766845703\n",
      "Reading row group 15\n",
      "Number of indicies in shard 209803\n",
      "Processing row group 15\n",
      "Reading time: 1.350188970565796\n",
      "Protein encoding time: 0.07814931869506836\n",
      "Fingerprinting time: 69.35953307151794\n",
      "Combining time: 8.952508926391602\n",
      "Fingerprinting time 79.80076003074646\n",
      "Inputting data\n",
      "Inputting time 0.2581617832183838\n",
      "Reading row group 16\n",
      "Number of indicies in shard 208878\n",
      "Processing row group 16\n",
      "Reading time: 1.3574819564819336\n",
      "Protein encoding time: 0.0734260082244873\n",
      "Fingerprinting time: 58.64429712295532\n",
      "Combining time: 7.706568241119385\n",
      "Fingerprinting time 67.84069991111755\n",
      "Inputting data\n",
      "Inputting time 0.22086787223815918\n",
      "Reading row group 17\n",
      "Number of indicies in shard 209808\n",
      "Processing row group 17\n",
      "Reading time: 1.2984850406646729\n",
      "Protein encoding time: 0.07385587692260742\n",
      "Fingerprinting time: 66.56827092170715\n",
      "Combining time: 8.65226411819458\n",
      "Fingerprinting time 76.64751720428467\n",
      "Inputting data\n",
      "Inputting time 0.24463105201721191\n",
      "Reading row group 18\n",
      "Number of indicies in shard 209990\n",
      "Processing row group 18\n",
      "Reading time: 1.3750190734863281\n",
      "Protein encoding time: 0.07594585418701172\n",
      "Fingerprinting time: 61.871368169784546\n",
      "Combining time: 7.896376848220825\n",
      "Fingerprinting time 71.28114724159241\n",
      "Inputting data\n",
      "Inputting time 0.23693013191223145\n",
      "Reading row group 19\n",
      "Number of indicies in shard 209381\n",
      "Processing row group 19\n",
      "Reading time: 1.2712311744689941\n",
      "Protein encoding time: 0.07069587707519531\n",
      "Fingerprinting time: 59.21909809112549\n",
      "Combining time: 8.002488136291504\n",
      "Fingerprinting time 68.63776111602783\n",
      "Inputting data\n",
      "Inputting time 0.24933671951293945\n",
      "Reading row group 20\n",
      "Number of indicies in shard 210199\n",
      "Processing row group 20\n",
      "Reading time: 1.3324639797210693\n",
      "Protein encoding time: 0.06979012489318848\n",
      "Fingerprinting time: 67.17694187164307\n",
      "Combining time: 8.965284824371338\n",
      "Fingerprinting time 77.60604691505432\n",
      "Inputting data\n",
      "Inputting time 0.2591080665588379\n",
      "Reading row group 21\n",
      "Number of indicies in shard 209835\n",
      "Processing row group 21\n",
      "Reading time: 1.4032089710235596\n",
      "Protein encoding time: 0.08313512802124023\n",
      "Fingerprinting time: 72.56867480278015\n",
      "Combining time: 8.736318349838257\n",
      "Fingerprinting time 82.85182785987854\n",
      "Inputting data\n",
      "Inputting time 0.2406308650970459\n",
      "Reading row group 22\n",
      "Number of indicies in shard 210227\n",
      "Processing row group 22\n",
      "Reading time: 1.3075180053710938\n",
      "Protein encoding time: 0.07226705551147461\n",
      "Fingerprinting time: 71.57413029670715\n",
      "Combining time: 8.722855806350708\n",
      "Fingerprinting time 81.73646903038025\n",
      "Inputting data\n",
      "Inputting time 0.2876322269439697\n",
      "Reading row group 23\n",
      "Number of indicies in shard 210627\n",
      "Processing row group 23\n",
      "Reading time: 1.408890724182129\n",
      "Protein encoding time: 0.07530093193054199\n",
      "Fingerprinting time: 70.95762586593628\n",
      "Combining time: 8.62542200088501\n",
      "Fingerprinting time 81.13072490692139\n",
      "Inputting data\n",
      "Inputting time 0.23885726928710938\n",
      "Reading row group 24\n",
      "Number of indicies in shard 209141\n",
      "Processing row group 24\n",
      "Reading time: 1.4861550331115723\n",
      "Protein encoding time: 0.10134696960449219\n",
      "Fingerprinting time: 69.21572923660278\n",
      "Combining time: 8.737451076507568\n",
      "Fingerprinting time 79.60298299789429\n",
      "Inputting data\n",
      "Inputting time 0.2627840042114258\n",
      "Reading row group 25\n",
      "Number of indicies in shard 209673\n",
      "Processing row group 25\n",
      "Reading time: 1.5289359092712402\n",
      "Protein encoding time: 0.07970190048217773\n",
      "Fingerprinting time: 70.63607597351074\n",
      "Combining time: 8.742609977722168\n",
      "Fingerprinting time 81.04747486114502\n",
      "Inputting data\n",
      "Inputting time 0.26491522789001465\n",
      "Reading row group 26\n",
      "Number of indicies in shard 209902\n",
      "Processing row group 26\n",
      "Reading time: 1.4446868896484375\n",
      "Protein encoding time: 0.08120608329772949\n",
      "Fingerprinting time: 68.69316101074219\n",
      "Combining time: 7.731689929962158\n",
      "Fingerprinting time 78.01216697692871\n",
      "Inputting data\n",
      "Inputting time 0.23531317710876465\n",
      "Reading row group 27\n",
      "Reading row group 28\n",
      "Reading row group 29\n",
      "Reading row group 30\n",
      "Reading row group 31\n",
      "Reading row group 32\n",
      "Reading row group 33\n",
      "Reading row group 34\n",
      "Reading row group 35\n",
      "Reading row group 36\n",
      "Reading row group 37\n",
      "Reading row group 38\n",
      "Reading row group 39\n",
      "Reading row group 40\n",
      "Reading row group 41\n",
      "Reading row group 42\n",
      "Reading row group 43\n",
      "Reading row group 44\n",
      "Reading row group 45\n",
      "Reading row group 46\n",
      "Reading row group 47\n",
      "Reading row group 48\n",
      "Reading row group 49\n",
      "Reading row group 50\n",
      "Reading row group 51\n",
      "Reading row group 52\n",
      "Reading row group 53\n",
      "Reading row group 54\n",
      "Reading row group 55\n",
      "Reading row group 56\n",
      "Reading row group 57\n",
      "Reading row group 58\n",
      "Reading row group 59\n",
      "Reading row group 60\n",
      "Reading row group 61\n",
      "Reading row group 62\n",
      "Reading row group 63\n",
      "Reading row group 64\n",
      "Reading row group 65\n",
      "Reading row group 66\n",
      "Reading row group 67\n",
      "Reading row group 68\n",
      "Reading row group 69\n",
      "Reading row group 70\n",
      "Reading row group 71\n",
      "Reading row group 72\n",
      "Reading row group 73\n",
      "Reading row group 74\n",
      "Reading row group 75\n",
      "Reading row group 76\n",
      "Reading row group 77\n",
      "Reading row group 78\n",
      "Reading row group 79\n",
      "Reading row group 80\n",
      "Reading row group 81\n",
      "Reading row group 82\n",
      "Reading row group 83\n",
      "Reading row group 84\n",
      "Reading row group 85\n",
      "Reading row group 86\n",
      "Reading row group 87\n",
      "Reading row group 88\n",
      "Reading row group 89\n",
      "Reading row group 90\n",
      "Reading row group 91\n",
      "Reading row group 92\n",
      "Reading row group 93\n",
      "Reading row group 94\n",
      "Reading row group 95\n",
      "Reading row group 96\n",
      "Reading row group 97\n",
      "Reading row group 98\n",
      "Reading row group 99\n",
      "Reading row group 100\n",
      "Reading row group 101\n",
      "Reading row group 102\n",
      "Reading row group 103\n",
      "Reading row group 104\n",
      "Reading row group 105\n",
      "Reading row group 106\n",
      "Reading row group 107\n",
      "Reading row group 108\n",
      "Reading row group 109\n",
      "Reading row group 110\n",
      "Reading row group 111\n",
      "Reading row group 112\n",
      "Reading row group 113\n",
      "Reading row group 114\n",
      "Reading row group 115\n",
      "Reading row group 116\n",
      "Reading row group 117\n",
      "Reading row group 118\n",
      "Reading row group 119\n",
      "Reading row group 120\n",
      "Reading row group 121\n",
      "Reading row group 122\n",
      "Reading row group 123\n",
      "Reading row group 124\n",
      "Reading row group 125\n",
      "Reading row group 126\n",
      "Reading row group 127\n",
      "Reading row group 128\n",
      "Reading row group 129\n",
      "Reading row group 130\n",
      "Reading row group 131\n",
      "Reading row group 132\n",
      "Reading row group 133\n",
      "Reading row group 134\n",
      "Reading row group 135\n",
      "Reading row group 136\n",
      "Reading row group 137\n",
      "Reading row group 138\n",
      "Reading row group 139\n",
      "Reading row group 140\n",
      "Reading row group 141\n",
      "Reading row group 142\n",
      "Reading row group 143\n",
      "Reading row group 144\n",
      "Reading row group 145\n",
      "Reading row group 146\n",
      "Reading row group 147\n",
      "Reading row group 148\n",
      "Reading row group 149\n",
      "Reading row group 150\n",
      "Reading row group 151\n",
      "Reading row group 152\n",
      "Reading row group 153\n",
      "Reading row group 154\n",
      "Reading row group 155\n",
      "Reading row group 156\n",
      "Reading row group 157\n",
      "Reading row group 158\n",
      "Reading row group 159\n",
      "Reading row group 160\n",
      "Reading row group 161\n",
      "Reading row group 162\n",
      "Reading row group 163\n",
      "Reading row group 164\n",
      "Reading row group 165\n",
      "Reading row group 166\n",
      "Reading row group 167\n",
      "Reading row group 168\n",
      "Reading row group 169\n",
      "Reading row group 170\n",
      "Reading row group 171\n",
      "Reading row group 172\n",
      "Reading row group 173\n",
      "Reading row group 174\n",
      "Reading row group 175\n",
      "Reading row group 176\n",
      "Reading row group 177\n",
      "Reading row group 178\n",
      "Reading row group 179\n",
      "Reading row group 180\n",
      "Reading row group 181\n",
      "Reading row group 182\n",
      "Reading row group 183\n",
      "Reading row group 184\n",
      "Reading row group 185\n",
      "Reading row group 186\n",
      "Reading row group 187\n",
      "Reading row group 188\n",
      "Reading row group 189\n",
      "Reading row group 190\n",
      "Reading row group 191\n",
      "Reading row group 192\n",
      "Reading row group 193\n",
      "Reading row group 194\n",
      "Reading row group 195\n",
      "Reading row group 196\n",
      "Reading row group 197\n",
      "Reading row group 198\n",
      "Reading row group 199\n",
      "Reading row group 200\n",
      "Reading row group 201\n",
      "Reading row group 202\n",
      "Reading row group 203\n",
      "Reading row group 204\n",
      "Reading row group 205\n",
      "Reading row group 206\n",
      "Reading row group 207\n",
      "Reading row group 208\n",
      "Reading row group 209\n",
      "Reading row group 210\n",
      "Reading row group 211\n",
      "Reading row group 212\n",
      "Reading row group 213\n",
      "Reading row group 214\n",
      "Reading row group 215\n",
      "Reading row group 216\n",
      "Reading row group 217\n",
      "Reading row group 218\n",
      "Reading row group 219\n",
      "Reading row group 220\n",
      "Reading row group 221\n",
      "Reading row group 222\n",
      "Reading row group 223\n",
      "Reading row group 224\n",
      "Reading row group 225\n",
      "Reading row group 226\n",
      "Reading row group 227\n",
      "Reading row group 228\n",
      "Reading row group 229\n",
      "Reading row group 230\n",
      "Reading row group 231\n",
      "Reading row group 232\n",
      "Reading row group 233\n",
      "Reading row group 234\n",
      "Reading row group 235\n",
      "Reading row group 236\n",
      "Reading row group 237\n",
      "Reading row group 238\n",
      "Reading row group 239\n",
      "Reading row group 240\n",
      "Reading row group 241\n",
      "Reading row group 242\n",
      "Reading row group 243\n",
      "Reading row group 244\n",
      "Reading row group 245\n",
      "Reading row group 246\n",
      "Reading row group 247\n",
      "Reading row group 248\n",
      "Reading row group 249\n",
      "Reading row group 250\n",
      "Reading row group 251\n",
      "Reading row group 252\n",
      "Reading row group 253\n",
      "Reading row group 254\n",
      "Reading row group 255\n",
      "Reading row group 256\n",
      "Reading row group 257\n",
      "Reading row group 258\n",
      "Reading row group 259\n",
      "Reading row group 260\n",
      "Reading row group 261\n",
      "Reading row group 262\n",
      "Reading row group 263\n",
      "Reading row group 264\n",
      "Reading row group 265\n",
      "Reading row group 266\n",
      "Reading row group 267\n",
      "Reading row group 268\n",
      "Reading row group 269\n",
      "Reading row group 270\n",
      "Reading row group 271\n",
      "Reading row group 272\n",
      "Reading row group 273\n",
      "Reading row group 274\n",
      "Reading row group 275\n",
      "Reading row group 276\n",
      "Reading row group 277\n",
      "Reading row group 278\n",
      "Reading row group 279\n",
      "Reading row group 280\n",
      "Reading row group 281\n",
      "Reading row group 282\n"
     ]
    }
   ],
   "execution_count": 15
  },
  {
   "metadata": {
    "ExecuteTime": {
     "end_time": "2024-05-11T00:29:41.230898Z",
     "start_time": "2024-05-11T00:29:41.205792Z"
    }
   },
   "cell_type": "code",
   "source": [
    "with open('logs/2024-05-09_20-13-18/model_37.pkl', 'rb') as file:\n",
    "    model = pickle.load(file)"
   ],
   "id": "2c00aa19d4e0a2e3",
   "outputs": [],
   "execution_count": 16
  },
  {
   "metadata": {
    "ExecuteTime": {
     "end_time": "2024-05-11T00:34:23.134609Z",
     "start_time": "2024-05-11T00:29:41.235394Z"
    }
   },
   "cell_type": "code",
   "source": [
    "val_predictions = model.predict(val_Xy)\n",
    "plt.hist(val_predictions)"
   ],
   "id": "9f9a44877fad77af",
   "outputs": [
    {
     "data": {
      "text/plain": [
       "(array([3490076., 1381352.,  334968.,  135529.,   99199.,   85668.,\n",
       "          55521.,   40864.,   26658.,   12476.]),\n",
       " array([0.07947747, 0.16324629, 0.2470151 , 0.33078393, 0.41455275,\n",
       "        0.49832156, 0.58209038, 0.66585916, 0.74962801, 0.83339679,\n",
       "        0.91716564]),\n",
       " <BarContainer object of 10 artists>)"
      ]
     },
     "execution_count": 17,
     "metadata": {},
     "output_type": "execute_result"
    },
    {
     "data": {
      "text/plain": [
       "<Figure size 640x480 with 1 Axes>"
      ],
      "image/png": "[encoded data removed]"
     },
     "metadata": {},
     "output_type": "display_data"
    }
   ],
   "execution_count": 17
  },
  {
   "metadata": {
    "ExecuteTime": {
     "end_time": "2024-05-11T00:39:32.196296Z",
     "start_time": "2024-05-11T00:34:23.153177Z"
    }
   },
   "cell_type": "code",
   "source": [
    "with open('logs/2024-05-09_20-13-18/model_14.pkl', 'rb') as file:\n",
    "    model = pickle.load(file)\n",
    "val_predictions = model.predict(val_Xy)\n",
    "plt.hist(val_predictions)"
   ],
   "id": "fc4db11862caca7e",
   "outputs": [
    {
     "data": {
      "text/plain": [
       "(array([2407962., 2147462.,  585816.,  164823.,  104051.,   98860.,\n",
       "          64233.,   34213.,   44169.,   10722.]),\n",
       " array([0.24597871, 0.29930717, 0.35263565, 0.40596411, 0.45929259,\n",
       "        0.51262105, 0.5659495 , 0.61927795, 0.67260647, 0.72593492,\n",
       "        0.77926338]),\n",
       " <BarContainer object of 10 artists>)"
      ]
     },
     "execution_count": 18,
     "metadata": {},
     "output_type": "execute_result"
    },
    {
     "data": {
      "text/plain": [
       "<Figure size 640x480 with 1 Axes>"
      ],
      "image/png": "[encoded data removed]"
     },
     "metadata": {},
     "output_type": "display_data"
    }
   ],
   "execution_count": 18
  },
  {
   "metadata": {
    "ExecuteTime": {
     "end_time": "2024-05-11T00:59:33.349162Z",
     "start_time": "2024-05-11T00:42:13.131932Z"
    }
   },
   "cell_type": "code",
   "source": [
    "test_dataset = SmilesIterator(\"data/test.parquet\", shuffle=False,\n",
    "                                         fingerprint='circular_fingerprint',\n",
    "                                         radius=3,\n",
    "                                         nBits=1024,\n",
    "                                         protein_map_path=\"data/processed/protein_map.json\")\n",
    "test_Xy = xgboost.DMatrix(test_dataset)"
   ],
   "id": "1b20590e14b5909d",
   "outputs": [
    {
     "name": "stdout",
     "output_type": "stream",
     "text": [
      "Reading row group 0\n",
      "Number of indicies in shard 1048576\n",
      "Processing row group 0\n",
      "Reading time: 1.044287919998169\n",
      "Protein encoding time: 0.25345396995544434\n",
      "Fingerprinting time: 517.9607810974121\n",
      "Combining time: 53.832345962524414\n",
      "Fingerprinting time 573.1600019931793\n",
      "Inputting data\n",
      "Inputting time 0.04524397850036621\n",
      "Reading row group 1\n",
      "Number of indicies in shard 626320\n",
      "Processing row group 1\n",
      "Reading time: 1.1136350631713867\n",
      "Protein encoding time: 0.21134209632873535\n",
      "Fingerprinting time: 363.24027490615845\n",
      "Combining time: 24.20472025871277\n",
      "Fingerprinting time 388.8549630641937\n",
      "Inputting data\n",
      "Inputting time 0.8499977588653564\n"
     ]
    }
   ],
   "execution_count": 19
  },
  {
   "metadata": {
    "ExecuteTime": {
     "end_time": "2024-05-11T01:00:48.114385Z",
     "start_time": "2024-05-11T00:59:33.383557Z"
    }
   },
   "cell_type": "code",
   "source": [
    "test_predictions = model.predict(test_Xy)\n",
    "plt.hist(test_predictions)"
   ],
   "id": "a76a578b36c463f8",
   "outputs": [
    {
     "data": {
      "text/plain": [
       "(array([ 66136.,  81904.,  99136., 149306., 225775., 204408., 129986.,\n",
       "         89275., 221397., 407573.]),\n",
       " array([0.25105873, 0.3059141 , 0.36076951, 0.41562492, 0.47048029,\n",
       "        0.52533567, 0.58019108, 0.63504648, 0.68990183, 0.74475724,\n",
       "        0.79961264]),\n",
       " <BarContainer object of 10 artists>)"
      ]
     },
     "execution_count": 20,
     "metadata": {},
     "output_type": "execute_result"
    },
    {
     "data": {
      "text/plain": [
       "<Figure size 640x480 with 1 Axes>"
      ],
      "image/png": "[encoded data removed]"
     },
     "metadata": {},
     "output_type": "display_data"
    }
   ],
   "execution_count": 20
  },
  {
   "metadata": {},
   "cell_type": "code",
   "outputs": [],
   "execution_count": null,
   "source": "",
   "id": "81d4a8bd2b816c0e"
  }
 ],
 "metadata": {
  "kernelspec": {
   "display_name": "Python [conda env:binding_prediction] *",
   "language": "python",
   "name": "conda-env-binding_prediction-py"
  },
  "language_info": {
   "codemirror_mode": {
    "name": "ipython",
    "version": 2
   },
   "file_extension": ".py",
   "mimetype": "text/x-python",
   "name": "python",
   "nbconvert_exporter": "python",
   "pygments_lexer": "ipython2",
   "version": "2.7.6"
  }
 },
 "nbformat": 4,
 "nbformat_minor": 5
}
